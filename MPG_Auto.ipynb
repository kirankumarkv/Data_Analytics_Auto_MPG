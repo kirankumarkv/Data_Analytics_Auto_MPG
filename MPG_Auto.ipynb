{
  "nbformat": 4,
  "nbformat_minor": 0,
  "metadata": {
    "colab": {
      "provenance": []
    },
    "kernelspec": {
      "name": "python3",
      "display_name": "Python 3"
    },
    "language_info": {
      "name": "python"
    }
  },
  "cells": [
    {
      "cell_type": "markdown",
      "source": [
        "MPG Auto Dataset Problem\n",
        "\n",
        "By: Kiran Kumar KV\n",
        "  \n",
        "For: MTech in AI"
      ],
      "metadata": {
        "id": "Ym7Ht4rT3QlG"
      }
    },
    {
      "cell_type": "code",
      "execution_count": 22,
      "metadata": {
        "colab": {
          "base_uri": "https://localhost:8080/",
          "height": 206
        },
        "id": "_biZKiMX3E4n",
        "outputId": "efbca2ee-cc2c-4287-9705-06593287a262"
      },
      "outputs": [
        {
          "output_type": "execute_result",
          "data": {
            "text/plain": [
              "    mpg  cylinders  displacement  horsepower  weight  acceleration  \\\n",
              "0  18.0          8         307.0       130.0    3504          12.0   \n",
              "1  15.0          8         350.0       165.0    3693          11.5   \n",
              "2  18.0          8         318.0       150.0    3436          11.0   \n",
              "3  16.0          8         304.0       150.0    3433          12.0   \n",
              "4  17.0          8         302.0       140.0    3449          10.5   \n",
              "\n",
              "   model_year origin                       name  \n",
              "0          70    usa  chevrolet chevelle malibu  \n",
              "1          70    usa          buick skylark 320  \n",
              "2          70    usa         plymouth satellite  \n",
              "3          70    usa              amc rebel sst  \n",
              "4          70    usa                ford torino  "
            ],
            "text/html": [
              "\n",
              "  <div id=\"df-1ac75655-a21a-438d-a232-ea871ef177e0\" class=\"colab-df-container\">\n",
              "    <div>\n",
              "<style scoped>\n",
              "    .dataframe tbody tr th:only-of-type {\n",
              "        vertical-align: middle;\n",
              "    }\n",
              "\n",
              "    .dataframe tbody tr th {\n",
              "        vertical-align: top;\n",
              "    }\n",
              "\n",
              "    .dataframe thead th {\n",
              "        text-align: right;\n",
              "    }\n",
              "</style>\n",
              "<table border=\"1\" class=\"dataframe\">\n",
              "  <thead>\n",
              "    <tr style=\"text-align: right;\">\n",
              "      <th></th>\n",
              "      <th>mpg</th>\n",
              "      <th>cylinders</th>\n",
              "      <th>displacement</th>\n",
              "      <th>horsepower</th>\n",
              "      <th>weight</th>\n",
              "      <th>acceleration</th>\n",
              "      <th>model_year</th>\n",
              "      <th>origin</th>\n",
              "      <th>name</th>\n",
              "    </tr>\n",
              "  </thead>\n",
              "  <tbody>\n",
              "    <tr>\n",
              "      <th>0</th>\n",
              "      <td>18.0</td>\n",
              "      <td>8</td>\n",
              "      <td>307.0</td>\n",
              "      <td>130.0</td>\n",
              "      <td>3504</td>\n",
              "      <td>12.0</td>\n",
              "      <td>70</td>\n",
              "      <td>usa</td>\n",
              "      <td>chevrolet chevelle malibu</td>\n",
              "    </tr>\n",
              "    <tr>\n",
              "      <th>1</th>\n",
              "      <td>15.0</td>\n",
              "      <td>8</td>\n",
              "      <td>350.0</td>\n",
              "      <td>165.0</td>\n",
              "      <td>3693</td>\n",
              "      <td>11.5</td>\n",
              "      <td>70</td>\n",
              "      <td>usa</td>\n",
              "      <td>buick skylark 320</td>\n",
              "    </tr>\n",
              "    <tr>\n",
              "      <th>2</th>\n",
              "      <td>18.0</td>\n",
              "      <td>8</td>\n",
              "      <td>318.0</td>\n",
              "      <td>150.0</td>\n",
              "      <td>3436</td>\n",
              "      <td>11.0</td>\n",
              "      <td>70</td>\n",
              "      <td>usa</td>\n",
              "      <td>plymouth satellite</td>\n",
              "    </tr>\n",
              "    <tr>\n",
              "      <th>3</th>\n",
              "      <td>16.0</td>\n",
              "      <td>8</td>\n",
              "      <td>304.0</td>\n",
              "      <td>150.0</td>\n",
              "      <td>3433</td>\n",
              "      <td>12.0</td>\n",
              "      <td>70</td>\n",
              "      <td>usa</td>\n",
              "      <td>amc rebel sst</td>\n",
              "    </tr>\n",
              "    <tr>\n",
              "      <th>4</th>\n",
              "      <td>17.0</td>\n",
              "      <td>8</td>\n",
              "      <td>302.0</td>\n",
              "      <td>140.0</td>\n",
              "      <td>3449</td>\n",
              "      <td>10.5</td>\n",
              "      <td>70</td>\n",
              "      <td>usa</td>\n",
              "      <td>ford torino</td>\n",
              "    </tr>\n",
              "  </tbody>\n",
              "</table>\n",
              "</div>\n",
              "    <div class=\"colab-df-buttons\">\n",
              "\n",
              "  <div class=\"colab-df-container\">\n",
              "    <button class=\"colab-df-convert\" onclick=\"convertToInteractive('df-1ac75655-a21a-438d-a232-ea871ef177e0')\"\n",
              "            title=\"Convert this dataframe to an interactive table.\"\n",
              "            style=\"display:none;\">\n",
              "\n",
              "  <svg xmlns=\"http://www.w3.org/2000/svg\" height=\"24px\" viewBox=\"0 -960 960 960\">\n",
              "    <path d=\"M120-120v-720h720v720H120Zm60-500h600v-160H180v160Zm220 220h160v-160H400v160Zm0 220h160v-160H400v160ZM180-400h160v-160H180v160Zm440 0h160v-160H620v160ZM180-180h160v-160H180v160Zm440 0h160v-160H620v160Z\"/>\n",
              "  </svg>\n",
              "    </button>\n",
              "\n",
              "  <style>\n",
              "    .colab-df-container {\n",
              "      display:flex;\n",
              "      gap: 12px;\n",
              "    }\n",
              "\n",
              "    .colab-df-convert {\n",
              "      background-color: #E8F0FE;\n",
              "      border: none;\n",
              "      border-radius: 50%;\n",
              "      cursor: pointer;\n",
              "      display: none;\n",
              "      fill: #1967D2;\n",
              "      height: 32px;\n",
              "      padding: 0 0 0 0;\n",
              "      width: 32px;\n",
              "    }\n",
              "\n",
              "    .colab-df-convert:hover {\n",
              "      background-color: #E2EBFA;\n",
              "      box-shadow: 0px 1px 2px rgba(60, 64, 67, 0.3), 0px 1px 3px 1px rgba(60, 64, 67, 0.15);\n",
              "      fill: #174EA6;\n",
              "    }\n",
              "\n",
              "    .colab-df-buttons div {\n",
              "      margin-bottom: 4px;\n",
              "    }\n",
              "\n",
              "    [theme=dark] .colab-df-convert {\n",
              "      background-color: #3B4455;\n",
              "      fill: #D2E3FC;\n",
              "    }\n",
              "\n",
              "    [theme=dark] .colab-df-convert:hover {\n",
              "      background-color: #434B5C;\n",
              "      box-shadow: 0px 1px 3px 1px rgba(0, 0, 0, 0.15);\n",
              "      filter: drop-shadow(0px 1px 2px rgba(0, 0, 0, 0.3));\n",
              "      fill: #FFFFFF;\n",
              "    }\n",
              "  </style>\n",
              "\n",
              "    <script>\n",
              "      const buttonEl =\n",
              "        document.querySelector('#df-1ac75655-a21a-438d-a232-ea871ef177e0 button.colab-df-convert');\n",
              "      buttonEl.style.display =\n",
              "        google.colab.kernel.accessAllowed ? 'block' : 'none';\n",
              "\n",
              "      async function convertToInteractive(key) {\n",
              "        const element = document.querySelector('#df-1ac75655-a21a-438d-a232-ea871ef177e0');\n",
              "        const dataTable =\n",
              "          await google.colab.kernel.invokeFunction('convertToInteractive',\n",
              "                                                    [key], {});\n",
              "        if (!dataTable) return;\n",
              "\n",
              "        const docLinkHtml = 'Like what you see? Visit the ' +\n",
              "          '<a target=\"_blank\" href=https://colab.research.google.com/notebooks/data_table.ipynb>data table notebook</a>'\n",
              "          + ' to learn more about interactive tables.';\n",
              "        element.innerHTML = '';\n",
              "        dataTable['output_type'] = 'display_data';\n",
              "        await google.colab.output.renderOutput(dataTable, element);\n",
              "        const docLink = document.createElement('div');\n",
              "        docLink.innerHTML = docLinkHtml;\n",
              "        element.appendChild(docLink);\n",
              "      }\n",
              "    </script>\n",
              "  </div>\n",
              "\n",
              "\n",
              "    <div id=\"df-0f01c3d5-62c1-4521-9947-aeccb1a3d811\">\n",
              "      <button class=\"colab-df-quickchart\" onclick=\"quickchart('df-0f01c3d5-62c1-4521-9947-aeccb1a3d811')\"\n",
              "                title=\"Suggest charts\"\n",
              "                style=\"display:none;\">\n",
              "\n",
              "<svg xmlns=\"http://www.w3.org/2000/svg\" height=\"24px\"viewBox=\"0 0 24 24\"\n",
              "     width=\"24px\">\n",
              "    <g>\n",
              "        <path d=\"M19 3H5c-1.1 0-2 .9-2 2v14c0 1.1.9 2 2 2h14c1.1 0 2-.9 2-2V5c0-1.1-.9-2-2-2zM9 17H7v-7h2v7zm4 0h-2V7h2v10zm4 0h-2v-4h2v4z\"/>\n",
              "    </g>\n",
              "</svg>\n",
              "      </button>\n",
              "\n",
              "<style>\n",
              "  .colab-df-quickchart {\n",
              "      --bg-color: #E8F0FE;\n",
              "      --fill-color: #1967D2;\n",
              "      --hover-bg-color: #E2EBFA;\n",
              "      --hover-fill-color: #174EA6;\n",
              "      --disabled-fill-color: #AAA;\n",
              "      --disabled-bg-color: #DDD;\n",
              "  }\n",
              "\n",
              "  [theme=dark] .colab-df-quickchart {\n",
              "      --bg-color: #3B4455;\n",
              "      --fill-color: #D2E3FC;\n",
              "      --hover-bg-color: #434B5C;\n",
              "      --hover-fill-color: #FFFFFF;\n",
              "      --disabled-bg-color: #3B4455;\n",
              "      --disabled-fill-color: #666;\n",
              "  }\n",
              "\n",
              "  .colab-df-quickchart {\n",
              "    background-color: var(--bg-color);\n",
              "    border: none;\n",
              "    border-radius: 50%;\n",
              "    cursor: pointer;\n",
              "    display: none;\n",
              "    fill: var(--fill-color);\n",
              "    height: 32px;\n",
              "    padding: 0;\n",
              "    width: 32px;\n",
              "  }\n",
              "\n",
              "  .colab-df-quickchart:hover {\n",
              "    background-color: var(--hover-bg-color);\n",
              "    box-shadow: 0 1px 2px rgba(60, 64, 67, 0.3), 0 1px 3px 1px rgba(60, 64, 67, 0.15);\n",
              "    fill: var(--button-hover-fill-color);\n",
              "  }\n",
              "\n",
              "  .colab-df-quickchart-complete:disabled,\n",
              "  .colab-df-quickchart-complete:disabled:hover {\n",
              "    background-color: var(--disabled-bg-color);\n",
              "    fill: var(--disabled-fill-color);\n",
              "    box-shadow: none;\n",
              "  }\n",
              "\n",
              "  .colab-df-spinner {\n",
              "    border: 2px solid var(--fill-color);\n",
              "    border-color: transparent;\n",
              "    border-bottom-color: var(--fill-color);\n",
              "    animation:\n",
              "      spin 1s steps(1) infinite;\n",
              "  }\n",
              "\n",
              "  @keyframes spin {\n",
              "    0% {\n",
              "      border-color: transparent;\n",
              "      border-bottom-color: var(--fill-color);\n",
              "      border-left-color: var(--fill-color);\n",
              "    }\n",
              "    20% {\n",
              "      border-color: transparent;\n",
              "      border-left-color: var(--fill-color);\n",
              "      border-top-color: var(--fill-color);\n",
              "    }\n",
              "    30% {\n",
              "      border-color: transparent;\n",
              "      border-left-color: var(--fill-color);\n",
              "      border-top-color: var(--fill-color);\n",
              "      border-right-color: var(--fill-color);\n",
              "    }\n",
              "    40% {\n",
              "      border-color: transparent;\n",
              "      border-right-color: var(--fill-color);\n",
              "      border-top-color: var(--fill-color);\n",
              "    }\n",
              "    60% {\n",
              "      border-color: transparent;\n",
              "      border-right-color: var(--fill-color);\n",
              "    }\n",
              "    80% {\n",
              "      border-color: transparent;\n",
              "      border-right-color: var(--fill-color);\n",
              "      border-bottom-color: var(--fill-color);\n",
              "    }\n",
              "    90% {\n",
              "      border-color: transparent;\n",
              "      border-bottom-color: var(--fill-color);\n",
              "    }\n",
              "  }\n",
              "</style>\n",
              "\n",
              "      <script>\n",
              "        async function quickchart(key) {\n",
              "          const quickchartButtonEl =\n",
              "            document.querySelector('#' + key + ' button');\n",
              "          quickchartButtonEl.disabled = true;  // To prevent multiple clicks.\n",
              "          quickchartButtonEl.classList.add('colab-df-spinner');\n",
              "          try {\n",
              "            const charts = await google.colab.kernel.invokeFunction(\n",
              "                'suggestCharts', [key], {});\n",
              "          } catch (error) {\n",
              "            console.error('Error during call to suggestCharts:', error);\n",
              "          }\n",
              "          quickchartButtonEl.classList.remove('colab-df-spinner');\n",
              "          quickchartButtonEl.classList.add('colab-df-quickchart-complete');\n",
              "        }\n",
              "        (() => {\n",
              "          let quickchartButtonEl =\n",
              "            document.querySelector('#df-0f01c3d5-62c1-4521-9947-aeccb1a3d811 button');\n",
              "          quickchartButtonEl.style.display =\n",
              "            google.colab.kernel.accessAllowed ? 'block' : 'none';\n",
              "        })();\n",
              "      </script>\n",
              "    </div>\n",
              "\n",
              "    </div>\n",
              "  </div>\n"
            ],
            "application/vnd.google.colaboratory.intrinsic+json": {
              "type": "dataframe",
              "variable_name": "df",
              "summary": "{\n  \"name\": \"df\",\n  \"rows\": 398,\n  \"fields\": [\n    {\n      \"column\": \"mpg\",\n      \"properties\": {\n        \"dtype\": \"number\",\n        \"std\": 7.815984312565782,\n        \"min\": 9.0,\n        \"max\": 46.6,\n        \"num_unique_values\": 129,\n        \"samples\": [\n          17.7,\n          30.5,\n          30.0\n        ],\n        \"semantic_type\": \"\",\n        \"description\": \"\"\n      }\n    },\n    {\n      \"column\": \"cylinders\",\n      \"properties\": {\n        \"dtype\": \"number\",\n        \"std\": 1,\n        \"min\": 3,\n        \"max\": 8,\n        \"num_unique_values\": 5,\n        \"samples\": [\n          4,\n          5,\n          6\n        ],\n        \"semantic_type\": \"\",\n        \"description\": \"\"\n      }\n    },\n    {\n      \"column\": \"displacement\",\n      \"properties\": {\n        \"dtype\": \"number\",\n        \"std\": 104.26983817119581,\n        \"min\": 68.0,\n        \"max\": 455.0,\n        \"num_unique_values\": 82,\n        \"samples\": [\n          122.0,\n          307.0,\n          360.0\n        ],\n        \"semantic_type\": \"\",\n        \"description\": \"\"\n      }\n    },\n    {\n      \"column\": \"horsepower\",\n      \"properties\": {\n        \"dtype\": \"number\",\n        \"std\": 38.49115993282855,\n        \"min\": 46.0,\n        \"max\": 230.0,\n        \"num_unique_values\": 93,\n        \"samples\": [\n          92.0,\n          100.0,\n          52.0\n        ],\n        \"semantic_type\": \"\",\n        \"description\": \"\"\n      }\n    },\n    {\n      \"column\": \"weight\",\n      \"properties\": {\n        \"dtype\": \"number\",\n        \"std\": 846,\n        \"min\": 1613,\n        \"max\": 5140,\n        \"num_unique_values\": 351,\n        \"samples\": [\n          3730,\n          1995,\n          2215\n        ],\n        \"semantic_type\": \"\",\n        \"description\": \"\"\n      }\n    },\n    {\n      \"column\": \"acceleration\",\n      \"properties\": {\n        \"dtype\": \"number\",\n        \"std\": 2.7576889298126757,\n        \"min\": 8.0,\n        \"max\": 24.8,\n        \"num_unique_values\": 95,\n        \"samples\": [\n          14.7,\n          18.0,\n          14.3\n        ],\n        \"semantic_type\": \"\",\n        \"description\": \"\"\n      }\n    },\n    {\n      \"column\": \"model_year\",\n      \"properties\": {\n        \"dtype\": \"number\",\n        \"std\": 3,\n        \"min\": 70,\n        \"max\": 82,\n        \"num_unique_values\": 13,\n        \"samples\": [\n          81,\n          79,\n          70\n        ],\n        \"semantic_type\": \"\",\n        \"description\": \"\"\n      }\n    },\n    {\n      \"column\": \"origin\",\n      \"properties\": {\n        \"dtype\": \"category\",\n        \"num_unique_values\": 3,\n        \"samples\": [\n          \"usa\",\n          \"japan\",\n          \"europe\"\n        ],\n        \"semantic_type\": \"\",\n        \"description\": \"\"\n      }\n    },\n    {\n      \"column\": \"name\",\n      \"properties\": {\n        \"dtype\": \"string\",\n        \"num_unique_values\": 305,\n        \"samples\": [\n          \"mazda rx-4\",\n          \"ford f108\",\n          \"buick century luxus (sw)\"\n        ],\n        \"semantic_type\": \"\",\n        \"description\": \"\"\n      }\n    }\n  ]\n}"
            }
          },
          "metadata": {},
          "execution_count": 22
        }
      ],
      "source": [
        "import pandas as pd\n",
        "import numpy as np\n",
        "import matplotlib.pyplot as plt\n",
        "import seaborn as sns\n",
        "\n",
        "# Load dataset\n",
        "url = \"https://raw.githubusercontent.com/mwaskom/seaborn-data/master/mpg.csv\"\n",
        "df = pd.read_csv(url)\n",
        "\n",
        "# Preview\n",
        "df.head()\n"
      ]
    },
    {
      "cell_type": "code",
      "source": [
        "# Shape of the dataset\n",
        "print(\"Shape:\", df.shape)\n",
        "\n",
        "# Column names and data types\n",
        "print(\"Data types:\\n\", df.dtypes)\n",
        "\n",
        "# Missing values\n",
        "print(\"Missing values:\\n\", df.isnull().sum())\n",
        "\n",
        "# Summary stats for mpg\n",
        "print(\"MPG - Mean:\", df['mpg'].mean())\n",
        "print(\"MPG - Median:\", df['mpg'].median())\n",
        "print(\"MPG - Std Dev:\", df['mpg'].std())\n",
        "\n",
        "# Cars with highest and lowest MPG\n",
        "print(\"Highest MPG:\\n\", df[df['mpg'] == df['mpg'].max()])\n",
        "print(\"Lowest MPG:\\n\", df[df['mpg'] == df['mpg'].min()])\n",
        "\n",
        "# Average MPG by cylinders\n",
        "print(\"Average MPG by Cylinders:\\n\", df.groupby('cylinders')['mpg'].mean())\n",
        "\n",
        "# Average MPG by origin\n",
        "print(\"Average MPG by Origin:\\n\", df.groupby('origin')['mpg'].mean())\n"
      ],
      "metadata": {
        "colab": {
          "base_uri": "https://localhost:8080/"
        },
        "id": "F7NU7rIX3jIX",
        "outputId": "d65362e7-35b3-4ff3-aa9a-2bb311aca61b"
      },
      "execution_count": 23,
      "outputs": [
        {
          "output_type": "stream",
          "name": "stdout",
          "text": [
            "Shape: (398, 9)\n",
            "Data types:\n",
            " mpg             float64\n",
            "cylinders         int64\n",
            "displacement    float64\n",
            "horsepower      float64\n",
            "weight            int64\n",
            "acceleration    float64\n",
            "model_year        int64\n",
            "origin           object\n",
            "name             object\n",
            "dtype: object\n",
            "Missing values:\n",
            " mpg             0\n",
            "cylinders       0\n",
            "displacement    0\n",
            "horsepower      6\n",
            "weight          0\n",
            "acceleration    0\n",
            "model_year      0\n",
            "origin          0\n",
            "name            0\n",
            "dtype: int64\n",
            "MPG - Mean: 23.514572864321607\n",
            "MPG - Median: 23.0\n",
            "MPG - Std Dev: 7.815984312565782\n",
            "Highest MPG:\n",
            "       mpg  cylinders  displacement  horsepower  weight  acceleration  \\\n",
            "322  46.6          4          86.0        65.0    2110          17.9   \n",
            "\n",
            "     model_year origin       name  \n",
            "322          80  japan  mazda glc  \n",
            "Lowest MPG:\n",
            "     mpg  cylinders  displacement  horsepower  weight  acceleration  \\\n",
            "28  9.0          8         304.0       193.0    4732          18.5   \n",
            "\n",
            "    model_year origin      name  \n",
            "28          70    usa  hi 1200d  \n",
            "Average MPG by Cylinders:\n",
            " cylinders\n",
            "3    20.550000\n",
            "4    29.286765\n",
            "5    27.366667\n",
            "6    19.985714\n",
            "8    14.963107\n",
            "Name: mpg, dtype: float64\n",
            "Average MPG by Origin:\n",
            " origin\n",
            "europe    27.891429\n",
            "japan     30.450633\n",
            "usa       20.083534\n",
            "Name: mpg, dtype: float64\n"
          ]
        }
      ]
    },
    {
      "cell_type": "code",
      "source": [
        "sns.set(style=\"whitegrid\")\n",
        "\n",
        "# Scatter plot\n",
        "sns.lmplot(x='horsepower', y='mpg', data=df, aspect=1.5)\n",
        "plt.title(\"MPG vs Horsepower\")\n",
        "\n",
        "# Histogram\n",
        "df['mpg'].hist(bins=20, edgecolor='black')\n",
        "plt.title(\"MPG Distribution\")\n",
        "plt.xlabel(\"MPG\")\n",
        "plt.ylabel(\"Frequency\")\n",
        "\n",
        "# Boxplot: MPG vs Cylinders\n",
        "sns.boxplot(x='cylinders', y='mpg', data=df)\n",
        "plt.title(\"MPG by Number of Cylinders\")\n",
        "\n",
        "# Correlation heatmap\n",
        "corr = df.corr(numeric_only=True)\n",
        "sns.heatmap(corr, annot=True, cmap='coolwarm')\n",
        "plt.title(\"Correlation Heatmap\")\n",
        "plt.show()\n"
      ],
      "metadata": {
        "colab": {
          "base_uri": "https://localhost:8080/",
          "height": 588
        },
        "id": "0o4ULlKt3mjD",
        "outputId": "5e487fe9-8305-4bdc-b184-bd0d887c34e9"
      },
      "execution_count": 24,
      "outputs": [
        {
          "output_type": "display_data",
          "data": {
            "text/plain": [
              "<Figure size 750x500 with 2 Axes>"
            ],
            "image/png": "[encoded data removed]"
          },
          "metadata": {}
        }
      ]
    },
    {
      "cell_type": "code",
      "source": [
        "# Replace origin values\n",
        "df['origin'] = df['origin'].replace({1: 'USA', 2: 'Europe', 3: 'Japan'})\n",
        "\n",
        "# One-hot encoding for origin\n",
        "df = pd.get_dummies(df, columns=['origin'], drop_first=True)\n",
        "\n",
        "# Remove outliers using Z-score (for mpg and horsepower)\n",
        "#from scipy.stats import zscore\n",
        "#z_scores = zscore(df[['mpg', 'horsepower']])\n",
        "#df = df[(np.abs(z_scores) < 3).all(axis=1)]\n",
        "\n",
        "# Feature Engineering: Power-to-weight ratio\n",
        "df['power_to_weight'] = df['horsepower'] / df['weight']\n",
        "\n",
        "# Check correlation\n",
        "print(\"Correlation with MPG:\\n\", df[['mpg', 'power_to_weight']].corr())\n"
      ],
      "metadata": {
        "colab": {
          "base_uri": "https://localhost:8080/"
        },
        "id": "e8XjbvSF3sIb",
        "outputId": "d508fc67-e11e-4d1f-f487-889133595837"
      },
      "execution_count": 25,
      "outputs": [
        {
          "output_type": "stream",
          "name": "stdout",
          "text": [
            "Correlation with MPG:\n",
            "                       mpg  power_to_weight\n",
            "mpg              1.000000        -0.269699\n",
            "power_to_weight -0.269699         1.000000\n"
          ]
        }
      ]
    },
    {
      "cell_type": "code",
      "source": [
        "from sklearn.model_selection import train_test_split\n",
        "from sklearn.linear_model import LinearRegression\n",
        "from sklearn.metrics import mean_squared_error, r2_score\n",
        "\n",
        "# Drop rows with missing horsepower\n",
        "df_model = df.dropna(subset=['horsepower'])\n",
        "\n",
        "# Features and label\n",
        "features = ['horsepower', 'weight', 'displacement']\n",
        "X = df_model[features]\n",
        "y = df_model['mpg']\n",
        "\n",
        "# Train-Test split\n",
        "X_train, X_test, y_train, y_test = train_test_split(X, y, test_size=0.2, random_state=42)\n",
        "\n",
        "# Linear Regression model\n",
        "model = LinearRegression()\n",
        "model.fit(X_train, y_train)\n",
        "\n",
        "# Predict and evaluate\n",
        "y_pred = model.predict(X_test)\n",
        "print(\"R2 Score:\", r2_score(y_test, y_pred))\n",
        "print(\"MSE:\", mean_squared_error(y_test, y_pred))\n",
        "\n",
        "# Coefficients\n",
        "coeff_df = pd.DataFrame(model.coef_, index=features, columns=[\"Coefficient\"])\n",
        "print(coeff_df)\n"
      ],
      "metadata": {
        "colab": {
          "base_uri": "https://localhost:8080/"
        },
        "id": "ilR1JRX032s1",
        "outputId": "ff7174d9-15d0-4d1e-8aaf-28d74a764e6b"
      },
      "execution_count": 26,
      "outputs": [
        {
          "output_type": "stream",
          "name": "stdout",
          "text": [
            "R2 Score: 0.6470668946730966\n",
            "MSE: 18.013911540541997\n",
            "              Coefficient\n",
            "horsepower      -0.043286\n",
            "weight          -0.005209\n",
            "displacement    -0.008812\n"
          ]
        }
      ]
    },
    {
      "cell_type": "code",
      "source": [
        "!pip install pandasql"
      ],
      "metadata": {
        "colab": {
          "base_uri": "https://localhost:8080/"
        },
        "id": "w2x1kCyU4RTC",
        "outputId": "142eda55-e456-43a1-cb7c-c2866a9b8e62"
      },
      "execution_count": 27,
      "outputs": [
        {
          "output_type": "stream",
          "name": "stdout",
          "text": [
            "Requirement already satisfied: pandasql in /usr/local/lib/python3.11/dist-packages (0.7.3)\n",
            "Requirement already satisfied: numpy in /usr/local/lib/python3.11/dist-packages (from pandasql) (2.0.2)\n",
            "Requirement already satisfied: pandas in /usr/local/lib/python3.11/dist-packages (from pandasql) (2.2.2)\n",
            "Requirement already satisfied: sqlalchemy in /usr/local/lib/python3.11/dist-packages (from pandasql) (2.0.41)\n",
            "Requirement already satisfied: python-dateutil>=2.8.2 in /usr/local/lib/python3.11/dist-packages (from pandas->pandasql) (2.9.0.post0)\n",
            "Requirement already satisfied: pytz>=2020.1 in /usr/local/lib/python3.11/dist-packages (from pandas->pandasql) (2025.2)\n",
            "Requirement already satisfied: tzdata>=2022.7 in /usr/local/lib/python3.11/dist-packages (from pandas->pandasql) (2025.2)\n",
            "Requirement already satisfied: greenlet>=1 in /usr/local/lib/python3.11/dist-packages (from sqlalchemy->pandasql) (3.2.3)\n",
            "Requirement already satisfied: typing-extensions>=4.6.0 in /usr/local/lib/python3.11/dist-packages (from sqlalchemy->pandasql) (4.14.0)\n",
            "Requirement already satisfied: six>=1.5 in /usr/local/lib/python3.11/dist-packages (from python-dateutil>=2.8.2->pandas->pandasql) (1.17.0)\n"
          ]
        }
      ]
    },
    {
      "cell_type": "code",
      "source": [
        "from pandasql import sqldf\n",
        "pysqldf = lambda q: sqldf(q, globals())\n",
        "\n",
        "# 1. Top 5 most fuel-efficient cars\n",
        "q1 = \"SELECT name, mpg FROM df ORDER BY mpg DESC LIMIT 5\"\n",
        "print(pysqldf(q1))\n",
        "\n",
        "# 2. Count of cars by cylinders\n",
        "q2 = \"SELECT cylinders, COUNT(*) as count FROM df GROUP BY cylinders\"\n",
        "print(pysqldf(q2))\n",
        "\n",
        "# 3. Average MPG per origin\n",
        "q3 = \"\"\"\n",
        "SELECT\n",
        "    CASE\n",
        "        WHEN origin_usa = 1 THEN 'USA'\n",
        "        WHEN origin_japan = 1 THEN 'Japan'\n",
        "        ELSE 'Europe' -- If not USA and not Japan, it must be Europe because of drop_first=True\n",
        "    END as origin,\n",
        "    AVG(mpg) as avg_mpg\n",
        "FROM df\n",
        "GROUP BY origin_usa, origin_japan\n",
        "\"\"\"\n",
        "print(pysqldf(q3))"
      ],
      "metadata": {
        "colab": {
          "base_uri": "https://localhost:8080/"
        },
        "id": "esYYzaeZ4QwQ",
        "outputId": "3480d8cc-2e72-4418-fb6a-acc1ca8381c5"
      },
      "execution_count": 28,
      "outputs": [
        {
          "output_type": "stream",
          "name": "stdout",
          "text": [
            "                   name   mpg\n",
            "0             mazda glc  46.6\n",
            "1   honda civic 1500 gl  44.6\n",
            "2  vw rabbit c (diesel)  44.3\n",
            "3             vw pickup  44.0\n",
            "4    vw dasher (diesel)  43.4\n",
            "   cylinders  count\n",
            "0          3      4\n",
            "1          4    204\n",
            "2          5      3\n",
            "3          6     84\n",
            "4          8    103\n",
            "   origin    avg_mpg\n",
            "0  Europe  27.891429\n",
            "1   Japan  30.450633\n",
            "2     USA  20.083534\n"
          ]
        }
      ]
    },
    {
      "cell_type": "code",
      "source": [
        "# 4: Find the Average MPG for each cylinder\n",
        "q4 = \"SELECT cylinders, AVG(mpg) as avg_mpg FROM df GROUP BY cylinders\"\n",
        "print(pysqldf(q4))"
      ],
      "metadata": {
        "colab": {
          "base_uri": "https://localhost:8080/"
        },
        "id": "K3nh5CbY7n-e",
        "outputId": "206155ea-d595-400e-d0ff-dd3f8de41745"
      },
      "execution_count": 29,
      "outputs": [
        {
          "output_type": "stream",
          "name": "stdout",
          "text": [
            "   cylinders    avg_mpg\n",
            "0          3  20.550000\n",
            "1          4  29.286765\n",
            "2          5  27.366667\n",
            "3          6  19.985714\n",
            "4          8  14.963107\n"
          ]
        }
      ]
    },
    {
      "cell_type": "code",
      "source": [
        "#5: Find the Maximum Average MPG for each cylinder\n",
        "q5 = \"\"\"\n",
        "SELECT\n",
        "    cylinders,AVG(mpg) as avg_mpg\n",
        "    FROM df\n",
        "    GROUP BY cylinders\n",
        "    ORDER BY avg_mpg DESC\n",
        "    LIMIT 1\n",
        "    \"\"\"\n",
        "\n",
        "print(pysqldf(q5))"
      ],
      "metadata": {
        "colab": {
          "base_uri": "https://localhost:8080/"
        },
        "id": "ILHbY5wg8Toq",
        "outputId": "b7d3cee4-3ba6-487f-8df5-2c546fee2b16"
      },
      "execution_count": 30,
      "outputs": [
        {
          "output_type": "stream",
          "name": "stdout",
          "text": [
            "   cylinders    avg_mpg\n",
            "0          4  29.286765\n"
          ]
        }
      ]
    },
    {
      "cell_type": "code",
      "source": [],
      "metadata": {
        "id": "2-OPJBhw95ug"
      },
      "execution_count": 30,
      "outputs": []
    },
    {
      "cell_type": "code",
      "metadata": {
        "colab": {
          "base_uri": "https://localhost:8080/"
        },
        "id": "e7fd289c",
        "outputId": "8090c47e-329d-4202-deac-d24128eafa87"
      },
      "source": [
        "# Example query to label origin with numerical values using SQL\n",
        "q_label_origin = \"\"\"\n",
        "SELECT\n",
        "    name,\n",
        "    mpg,\n",
        "    CASE\n",
        "        WHEN origin_usa = 1 THEN 1  -- Assuming 1 for USA\n",
        "        WHEN origin_japan = 1 THEN 2 -- Assuming 2 for Japan\n",
        "        ELSE 3 -- Assuming 3 for Europe (since drop_first=True was used)\n",
        "    END as origin_labeled\n",
        "FROM df\n",
        "\"\"\"\n",
        "\n",
        "labeled_origin_df = pysqldf(q_label_origin)\n",
        "print(labeled_origin_df.head())"
      ],
      "execution_count": 31,
      "outputs": [
        {
          "output_type": "stream",
          "name": "stdout",
          "text": [
            "                        name   mpg  origin_labeled\n",
            "0  chevrolet chevelle malibu  18.0               1\n",
            "1          buick skylark 320  15.0               1\n",
            "2         plymouth satellite  18.0               1\n",
            "3              amc rebel sst  16.0               1\n",
            "4                ford torino  17.0               1\n"
          ]
        }
      ]
    },
    {
      "cell_type": "code",
      "source": [
        "#6 : Average MPG based on Origin\n",
        "q6 = \"SELECT origin_labeled, AVG(mpg) FROM labeled_origin_df GROUP BY origin_labeled\"\n",
        "print(pysqldf(q6))"
      ],
      "metadata": {
        "colab": {
          "base_uri": "https://localhost:8080/"
        },
        "id": "eHO8BMnPA5IC",
        "outputId": "35b9f735-2c29-4873-9173-e2c3e8da373d"
      },
      "execution_count": 32,
      "outputs": [
        {
          "output_type": "stream",
          "name": "stdout",
          "text": [
            "   origin_labeled   AVG(mpg)\n",
            "0               1  20.083534\n",
            "1               2  30.450633\n",
            "2               3  27.891429\n"
          ]
        }
      ]
    },
    {
      "cell_type": "code",
      "source": [
        "#7 : Count number of NULL values in Horsepower\n",
        "q7 = \"SELECT COUNT(mpg) FROM df WHERE horsepower  IS NULL\"\n",
        "print(pysqldf(q7))"
      ],
      "metadata": {
        "colab": {
          "base_uri": "https://localhost:8080/"
        },
        "id": "l3Rm3_9LEATx",
        "outputId": "cd8f5b9b-7a39-4c46-89da-fa6ecfe25101"
      },
      "execution_count": 33,
      "outputs": [
        {
          "output_type": "stream",
          "name": "stdout",
          "text": [
            "   COUNT(mpg)\n",
            "0           6\n"
          ]
        }
      ]
    },
    {
      "cell_type": "code",
      "source": [
        "q8 = \"SELECT COUNT(DISTINCT name) FROM df \"\n",
        "print(pysqldf(q8))"
      ],
      "metadata": {
        "colab": {
          "base_uri": "https://localhost:8080/"
        },
        "id": "cUUkckbLEjQP",
        "outputId": "9943dd70-53a0-46c9-8343-ed5abee29d7d"
      },
      "execution_count": 34,
      "outputs": [
        {
          "output_type": "stream",
          "name": "stdout",
          "text": [
            "   COUNT(DISTINCT name)\n",
            "0                   305\n"
          ]
        }
      ]
    },
    {
      "cell_type": "code",
      "source": [
        "#cars count w.r.t number of cylinders\n",
        "q9 = \"SELECT cylinders, COUNT(*) FROM df GROUP BY cylinders\"\n",
        "print(pysqldf(q9))"
      ],
      "metadata": {
        "colab": {
          "base_uri": "https://localhost:8080/"
        },
        "id": "fthOpxXv1vqf",
        "outputId": "e9394ba6-c039-4160-e82a-04ad50e1a7a3"
      },
      "execution_count": 35,
      "outputs": [
        {
          "output_type": "stream",
          "name": "stdout",
          "text": [
            "   cylinders  COUNT(*)\n",
            "0          3         4\n",
            "1          4       204\n",
            "2          5         3\n",
            "3          6        84\n",
            "4          8       103\n"
          ]
        }
      ]
    },
    {
      "cell_type": "code",
      "metadata": {
        "colab": {
          "base_uri": "https://localhost:8080/"
        },
        "id": "5546dfa1",
        "outputId": "96285543-334d-4709-e569-134f974e6e90"
      },
      "source": [
        "q_unique_names = \"SELECT DISTINCT name FROM df\"\n",
        "print(pysqldf(q_unique_names))"
      ],
      "execution_count": 36,
      "outputs": [
        {
          "output_type": "stream",
          "name": "stdout",
          "text": [
            "                          name\n",
            "0    chevrolet chevelle malibu\n",
            "1            buick skylark 320\n",
            "2           plymouth satellite\n",
            "3                amc rebel sst\n",
            "4                  ford torino\n",
            "..                         ...\n",
            "300            ford mustang gl\n",
            "301                  vw pickup\n",
            "302              dodge rampage\n",
            "303                ford ranger\n",
            "304                 chevy s-10\n",
            "\n",
            "[305 rows x 1 columns]\n"
          ]
        }
      ]
    },
    {
      "cell_type": "code",
      "source": [
        "#cars made by Toyota\n",
        "q10 = \"SELECT * FROM df WHERE name LIKE 'Toyota%'\"\n",
        "print(pysqldf(q10))"
      ],
      "metadata": {
        "colab": {
          "base_uri": "https://localhost:8080/"
        },
        "id": "dB9GspAzxOkn",
        "outputId": "bf54591d-86e6-4761-ce24-5e146975bf67"
      },
      "execution_count": 38,
      "outputs": [
        {
          "output_type": "stream",
          "name": "stdout",
          "text": [
            "     mpg  cylinders  displacement  horsepower  weight  acceleration  \\\n",
            "0   24.0          4         113.0        95.0    2372          15.0   \n",
            "1   25.0          4         113.0        95.0    2228          14.0   \n",
            "2   31.0          4          71.0        65.0    1773          19.0   \n",
            "3   24.0          4         113.0        95.0    2278          15.5   \n",
            "4   27.0          4          97.0        88.0    2100          16.5   \n",
            "5   20.0          4          97.0        88.0    2279          19.0   \n",
            "6   20.0          6         156.0       122.0    2807          13.5   \n",
            "7   32.0          4          71.0        65.0    1836          21.0   \n",
            "8   31.0          4          76.0        52.0    1649          16.5   \n",
            "9   29.0          4          97.0        75.0    2171          16.0   \n",
            "10  24.0          4         134.0        96.0    2702          13.5   \n",
            "11  28.0          4          97.0        75.0    2155          16.4   \n",
            "12  19.0          6         156.0       108.0    2930          15.5   \n",
            "13  26.0          4          97.0        75.0    2265          18.2   \n",
            "14  27.5          4         134.0        95.0    2560          14.2   \n",
            "15  21.1          4         134.0        95.0    2515          14.8   \n",
            "16  38.1          4          89.0        60.0    1968          18.8   \n",
            "17  29.8          4         134.0        90.0    2711          15.5   \n",
            "18  32.2          4         108.0        75.0    2265          15.2   \n",
            "19  39.1          4          79.0        58.0    1755          16.9   \n",
            "20  37.7          4          89.0        62.0    2050          17.3   \n",
            "21  32.4          4         108.0        75.0    2350          16.8   \n",
            "22  25.4          6         168.0       116.0    2900          12.6   \n",
            "23  34.0          4         108.0        70.0    2245          16.9   \n",
            "24  32.0          4         144.0        96.0    2665          13.9   \n",
            "\n",
            "    model_year                       name  origin_japan  origin_usa  \\\n",
            "0           70      toyota corona mark ii             1           0   \n",
            "1           71              toyota corona             1           0   \n",
            "2           71        toyota corolla 1200             1           0   \n",
            "3           72      toyota corona hardtop             1           0   \n",
            "4           72   toyota corolla 1600 (sw)             1           0   \n",
            "5           73              toyota carina             1           0   \n",
            "6           73             toyota mark ii             1           0   \n",
            "7           74        toyota corolla 1200             1           0   \n",
            "8           74              toyota corona             1           0   \n",
            "9           75             toyota corolla             1           0   \n",
            "10          75              toyota corona             1           0   \n",
            "11          76             toyota corolla             1           0   \n",
            "12          76             toyota mark ii             1           0   \n",
            "13          77    toyota corolla liftback             1           0   \n",
            "14          78              toyota corona             1           0   \n",
            "15          78  toyota celica gt liftback             1           0   \n",
            "16          80      toyota corolla tercel             1           0   \n",
            "17          80     toyota corona liftback             1           0   \n",
            "18          80             toyota corolla             1           0   \n",
            "19          81             toyota starlet             1           0   \n",
            "20          81              toyota tercel             1           0   \n",
            "21          81             toyota corolla             1           0   \n",
            "22          81            toyota cressida             1           0   \n",
            "23          82             toyota corolla             1           0   \n",
            "24          82           toyota celica gt             1           0   \n",
            "\n",
            "    power_to_weight  \n",
            "0          0.040051  \n",
            "1          0.042639  \n",
            "2          0.036661  \n",
            "3          0.041703  \n",
            "4          0.041905  \n",
            "5          0.038613  \n",
            "6          0.043463  \n",
            "7          0.035403  \n",
            "8          0.031534  \n",
            "9          0.034546  \n",
            "10         0.035529  \n",
            "11         0.034803  \n",
            "12         0.036860  \n",
            "13         0.033113  \n",
            "14         0.037109  \n",
            "15         0.037773  \n",
            "16         0.030488  \n",
            "17         0.033198  \n",
            "18         0.033113  \n",
            "19         0.033048  \n",
            "20         0.030244  \n",
            "21         0.031915  \n",
            "22         0.040000  \n",
            "23         0.031180  \n",
            "24         0.036023  \n"
          ]
        }
      ]
    },
    {
      "cell_type": "code",
      "source": [
        "#q11: Delete the last threee rows of the table\n",
        "q11 = \"\"\"\n",
        "DELETE FROM df\n",
        "WHERE rowid >= (SELECT MAX(rowid) - 3 FROM df)\n",
        "\"\"\"\n",
        "pysqldf(q11)\n",
        "print(df)"
      ],
      "metadata": {
        "colab": {
          "base_uri": "https://localhost:8080/"
        },
        "id": "glTgnK_bRhwD",
        "outputId": "6bf9239a-a85a-42ab-e83d-3a9514257358"
      },
      "execution_count": 43,
      "outputs": [
        {
          "output_type": "stream",
          "name": "stdout",
          "text": [
            "      mpg  cylinders  displacement  horsepower  weight  acceleration  \\\n",
            "0    18.0          8         307.0       130.0    3504          12.0   \n",
            "1    15.0          8         350.0       165.0    3693          11.5   \n",
            "2    18.0          8         318.0       150.0    3436          11.0   \n",
            "3    16.0          8         304.0       150.0    3433          12.0   \n",
            "4    17.0          8         302.0       140.0    3449          10.5   \n",
            "..    ...        ...           ...         ...     ...           ...   \n",
            "393  27.0          4         140.0        86.0    2790          15.6   \n",
            "394  44.0          4          97.0        52.0    2130          24.6   \n",
            "395  32.0          4         135.0        84.0    2295          11.6   \n",
            "396  28.0          4         120.0        79.0    2625          18.6   \n",
            "397  31.0          4         119.0        82.0    2720          19.4   \n",
            "\n",
            "     model_year                       name  origin_japan  origin_usa  \\\n",
            "0            70  chevrolet chevelle malibu         False        True   \n",
            "1            70          buick skylark 320         False        True   \n",
            "2            70         plymouth satellite         False        True   \n",
            "3            70              amc rebel sst         False        True   \n",
            "4            70                ford torino         False        True   \n",
            "..          ...                        ...           ...         ...   \n",
            "393          82            ford mustang gl         False        True   \n",
            "394          82                  vw pickup         False       False   \n",
            "395          82              dodge rampage         False        True   \n",
            "396          82                ford ranger         False        True   \n",
            "397          82                 chevy s-10         False        True   \n",
            "\n",
            "     power_to_weight  \n",
            "0           0.037100  \n",
            "1           0.044679  \n",
            "2           0.043655  \n",
            "3           0.043694  \n",
            "4           0.040591  \n",
            "..               ...  \n",
            "393         0.030824  \n",
            "394         0.024413  \n",
            "395         0.036601  \n",
            "396         0.030095  \n",
            "397         0.030147  \n",
            "\n",
            "[398 rows x 11 columns]\n"
          ]
        }
      ]
    },
    {
      "cell_type": "code",
      "source": [
        "#q12: Find the Null values in the table\n",
        "q12 = \"SELECT * FROM df WHERE power_to_weight IS NULL\"\n",
        "print(pysqldf(q12))"
      ],
      "metadata": {
        "colab": {
          "base_uri": "https://localhost:8080/"
        },
        "id": "Xuh1H02XC09a",
        "outputId": "7186b57b-0180-4abc-a4a8-a3dd8145c7f6"
      },
      "execution_count": 48,
      "outputs": [
        {
          "output_type": "stream",
          "name": "stdout",
          "text": [
            "    mpg  cylinders  displacement horsepower  weight  acceleration  model_year  \\\n",
            "0  25.0          4          98.0       None    2046          19.0          71   \n",
            "1  21.0          6         200.0       None    2875          17.0          74   \n",
            "2  40.9          4          85.0       None    1835          17.3          80   \n",
            "3  23.6          4         140.0       None    2905          14.3          80   \n",
            "4  34.5          4         100.0       None    2320          15.8          81   \n",
            "5  23.0          4         151.0       None    3035          20.5          82   \n",
            "\n",
            "                   name  origin_japan  origin_usa power_to_weight  \n",
            "0            ford pinto             0           1            None  \n",
            "1         ford maverick             0           1            None  \n",
            "2  renault lecar deluxe             0           0            None  \n",
            "3    ford mustang cobra             0           1            None  \n",
            "4           renault 18i             0           0            None  \n",
            "5        amc concord dl             0           1            None  \n"
          ]
        }
      ]
    }
  ]
}